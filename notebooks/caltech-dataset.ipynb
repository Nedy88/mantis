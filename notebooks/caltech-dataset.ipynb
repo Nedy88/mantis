{
 "cells": [
  {
   "cell_type": "code",
   "execution_count": null,
   "metadata": {},
   "outputs": [],
   "source": [
    "import matplotlib.pyplot as plt\n",
    "import numpy as np"
   ]
  },
  {
   "cell_type": "code",
   "execution_count": null,
   "metadata": {},
   "outputs": [],
   "source": [
    "import hydra\n",
    "from omegaconf import OmegaConf\n",
    "\n",
    "from mantis.configs.config import Config\n",
    "\n",
    "with hydra.initialize(version_base=None, config_path=\"../conf/\"):\n",
    "    cfg = hydra.compose(config_name=\"config\")\n",
    "    OmegaConf.resolve(cfg)\n",
    "    config = Config(**cfg)"
   ]
  },
  {
   "cell_type": "code",
   "execution_count": null,
   "metadata": {},
   "outputs": [],
   "source": [
    "from mantis.data.datasets import setup_dataset\n",
    "\n",
    "train_ds, val_ds = setup_dataset(config.dataset)"
   ]
  },
  {
   "cell_type": "code",
   "execution_count": null,
   "metadata": {},
   "outputs": [],
   "source": [
    "def vis_val(ind: int) -> None:  # noqa: D103\n",
    "    print(f\"Index: {ind}\")\n",
    "    batch = val_ds[ind]\n",
    "    img = batch[\"image\"]\n",
    "    img = (img * 255).round().int().clip(0, 255)\n",
    "    img = img.permute(1, 2, 0).numpy().astype(np.uint8)\n",
    "    plt.imshow(img)\n",
    "    plt.axis(\"off\")\n",
    "    plt.show()\n"
   ]
  },
  {
   "cell_type": "code",
   "execution_count": null,
   "metadata": {},
   "outputs": [],
   "source": [
    "import random\n",
    "\n",
    "ind = random.randint(0, len(val_ds))\n",
    "vis_val(ind)"
   ]
  }
 ],
 "metadata": {
  "kernelspec": {
   "display_name": "default",
   "language": "python",
   "name": "python3"
  },
  "language_info": {
   "codemirror_mode": {
    "name": "ipython",
    "version": 3
   },
   "file_extension": ".py",
   "mimetype": "text/x-python",
   "name": "python",
   "nbconvert_exporter": "python",
   "pygments_lexer": "ipython3",
   "version": "3.12.7"
  }
 },
 "nbformat": 4,
 "nbformat_minor": 2
}
