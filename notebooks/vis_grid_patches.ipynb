{
 "cells": [
  {
   "cell_type": "code",
   "execution_count": null,
   "metadata": {},
   "outputs": [],
   "source": [
    "import hydra\n",
    "import matplotlib.pyplot as plt\n",
    "import numpy as np"
   ]
  },
  {
   "cell_type": "code",
   "execution_count": null,
   "metadata": {},
   "outputs": [],
   "source": [
    "from omegaconf import OmegaConf\n",
    "\n",
    "from mantis.configs.config import Config\n",
    "\n",
    "with hydra.initialize(version_base=None, config_path=\"../conf/\"):\n",
    "    cfg = hydra.compose(config_name=\"config\")\n",
    "    OmegaConf.resolve(cfg)\n",
    "    config = Config(**cfg)"
   ]
  },
  {
   "cell_type": "code",
   "execution_count": null,
   "metadata": {},
   "outputs": [],
   "source": [
    "from mantis.data.datasets import get_distributed_dataloader, setup_dataset\n",
    "\n",
    "train_ds, val_ds = setup_dataset(config.dataset, device=0)\n",
    "train_loader = get_distributed_dataloader(train_ds, 0, config, is_train=True)\n",
    "train_loader = iter(train_loader)"
   ]
  },
  {
   "cell_type": "code",
   "execution_count": null,
   "metadata": {},
   "outputs": [],
   "source": [
    "batch = next(train_loader)"
   ]
  },
  {
   "cell_type": "code",
   "execution_count": null,
   "metadata": {},
   "outputs": [],
   "source": [
    "from torch import Tensor\n",
    "\n",
    "from mantis.model.patch_extractor import extract_grid_patches\n",
    "\n",
    "\n",
    "def vis_batch(batch: dict[str, Tensor], ind: int) -> None:\n",
    "    images = batch[\"image\"]\n",
    "    _, _, H, W = images.shape\n",
    "    Hp = H // config.patch_size\n",
    "    Wp = W // config.patch_size\n",
    "    img = (images[ind] * 255).round().int().clip(0, 255).numpy().astype(np.uint8)\n",
    "    patches, locs = extract_grid_patches(images, config.patch_size)\n",
    "    print(\"patches:\", patches.shape, patches.dtype, patches.min().item(), patches.max().item())\n",
    "    print(\"locs:\", locs.shape, locs.dtype, locs.min().item(), locs.max().item())\n",
    "    locs_vis = (locs[..., :2] + 1) / 2\n",
    "    locs_x = (locs_vis[ind, ..., 0] * W).flatten()\n",
    "    locs_y = (locs_vis[ind, ..., 1] * H).flatten()\n",
    "    plt.imshow(img.transpose(1, 2, 0))\n",
    "    plt.axis(\"off\")\n",
    "    plt.scatter(locs_x, locs_y, c=\"r\")\n",
    "    plt.show()\n",
    "\n",
    "    patch_vis = patches[ind].reshape(Hp, Wp, 3, config.patch_size, config.patch_size) # (Hp, Wp, 3, patch_size, patch_size)\n",
    "    patch_vis = (patch_vis * 255).round().int().clip(0, 255)\n",
    "    fig, axes = plt.subplots(Hp, Wp)\n",
    "    for i in range(Hp):\n",
    "        for j in range(Wp):\n",
    "            patch = patch_vis[i, j].permute(1, 2, 0).numpy().astype(np.uint8)\n",
    "            axes[i, j].imshow(patch)\n",
    "            axes[i, j].axis(\"off\")\n",
    "    plt.show()"
   ]
  },
  {
   "cell_type": "code",
   "execution_count": null,
   "metadata": {},
   "outputs": [],
   "source": [
    "vis_batch(batch, 0)"
   ]
  }
 ],
 "metadata": {
  "kernelspec": {
   "display_name": "default",
   "language": "python",
   "name": "python3"
  },
  "language_info": {
   "codemirror_mode": {
    "name": "ipython",
    "version": 3
   },
   "file_extension": ".py",
   "mimetype": "text/x-python",
   "name": "python",
   "nbconvert_exporter": "python",
   "pygments_lexer": "ipython3",
   "version": "3.12.7"
  }
 },
 "nbformat": 4,
 "nbformat_minor": 2
}
