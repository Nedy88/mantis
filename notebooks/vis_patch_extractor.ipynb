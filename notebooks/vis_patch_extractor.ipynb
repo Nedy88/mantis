{
 "cells": [
  {
   "cell_type": "code",
   "execution_count": null,
   "metadata": {},
   "outputs": [],
   "source": [
    "import hydra\n",
    "import matplotlib.pyplot as plt\n",
    "import numpy as np\n",
    "from omegaconf import OmegaConf\n"
   ]
  },
  {
   "cell_type": "code",
   "execution_count": null,
   "metadata": {},
   "outputs": [],
   "source": [
    "from mantis.configs.config import Config\n",
    "\n",
    "with hydra.initialize(version_base=None, config_path=\"../conf/\"):\n",
    "    cfg = hydra.compose(config_name=\"config\")\n",
    "    OmegaConf.resolve(cfg)\n",
    "    config = Config(**cfg)"
   ]
  },
  {
   "cell_type": "code",
   "execution_count": null,
   "metadata": {},
   "outputs": [],
   "source": [
    "from mantis.data.datasets import setup_dataset\n",
    "\n",
    "train_ds, val_ds = setup_dataset(config.dataset)"
   ]
  },
  {
   "cell_type": "code",
   "execution_count": null,
   "metadata": {},
   "outputs": [],
   "source": [
    "from torch.utils.data import DataLoader\n",
    "\n",
    "B = 2\n",
    "\n",
    "loader = DataLoader(train_ds, batch_size=B, shuffle=True)"
   ]
  },
  {
   "cell_type": "code",
   "execution_count": null,
   "metadata": {},
   "outputs": [],
   "source": [
    "import torch\n",
    "\n",
    "from mantis.model.patch_extractor import extract_equal_zoom_patches, extract_patches\n",
    "\n",
    "\n",
    "def vis_patches(batch: dict[str, torch.Tensor], z: float):\n",
    "    P = 16\n",
    "    imgs = (batch[\"image\"] * 255).round().int().clip(0, 255)\n",
    "    imgs = imgs.permute(0, 2, 3, 1).numpy().astype(np.uint8)\n",
    "    locs = torch.rand((B, 2))\n",
    "    scaled_locs = locs * 2 - 1\n",
    "    patches = extract_equal_zoom_patches(batch[\"image\"], locs=scaled_locs, z=z, patch_size=P)\n",
    "    inp_dim = min(config.dataset.img_height, config.dataset.img_width)\n",
    "    size = inp_dim / (2 ** z)\n",
    "    print(f\"Size: {size}\")\n",
    "\n",
    "    fig, axs = plt.subplots(1, 2, figsize=(12, 6))\n",
    "    axs[0].imshow(imgs[0])\n",
    "    axs[0].set_axis_off()\n",
    "    axs[0].scatter(locs[0, 0] * config.dataset.img_width, locs[0, 1] * config.dataset.img_height, c=\"red\")\n",
    "    min_loc = (locs[0, 0] * config.dataset.img_width - size / 2).item(), (locs[0, 1] * config.dataset.img_height - size / 2).item()\n",
    "    print(min_loc)\n",
    "    print(size)\n",
    "    axs[0].add_patch(\n",
    "        plt.Rectangle(min_loc, size, size, fill=False, edgecolor=\"red\", linewidth=2)\n",
    "    )\n",
    "\n",
    "    axs[1].imshow(imgs[1])\n",
    "    axs[1].set_axis_off()\n",
    "    axs[1].scatter(locs[1, 0] * config.dataset.img_width, locs[1, 1] * config.dataset.img_height, c=\"red\")\n",
    "    min_loc = (locs[1, 0] * config.dataset.img_width - size / 2).item(), (locs[1, 1] * config.dataset.img_height - size / 2).item()\n",
    "    axs[1].add_patch(\n",
    "        plt.Rectangle(min_loc, size, size, fill=False, edgecolor=\"red\", linewidth=2)\n",
    "    )\n",
    "    plt.show()\n",
    "\n",
    "    fig, axs = plt.subplots(1, 2, figsize=(12, 6))\n",
    "    patch = (patches[0] * 255).round().int().permute(1, 2, 0).numpy().astype(np.uint8)\n",
    "    axs[0].imshow(patch)\n",
    "    axs[0].set_axis_off()\n",
    "\n",
    "    patch = (patches[1] * 255).round().int().permute(1, 2, 0).numpy().astype(np.uint8)\n",
    "    axs[1].imshow(patch)\n",
    "    axs[1].set_axis_off()\n",
    "\n",
    "    plt.show()\n",
    "\n",
    "\n",
    "def vis_random_patches(ind: int) -> None:\n",
    "    print(f\"Index: {ind}\")\n",
    "    batch = train_ds[ind]\n",
    "    img = batch[\"image\"]\n",
    "    img_vis = (img * 255).round().int().clip(0, 255)\n",
    "    img_vis = img_vis.permute(1, 2, 0).numpy().astype(np.uint8)\n",
    "\n",
    "    # Sample locations\n",
    "    M = 1\n",
    "    max_z = 0\n",
    "    locs = torch.zeros((1, M, 3))\n",
    "    locs[:, :, :2] = torch.rand((1, M, 2))\n",
    "    locs[:, :, 2] = torch.rand((1, M)) * max_z\n",
    "    locs[:, :, 2] = 3.2288\n",
    "    min_dim = min(config.dataset.img_height, config.dataset.img_width)\n",
    "\n",
    "\n",
    "    plt.imshow(img_vis)\n",
    "    plt.axis(\"off\")\n",
    "    plt.scatter(locs[0, :, 1] * config.dataset.img_width, locs[0, :, 0] * config.dataset.img_height, c=\"red\")\n",
    "    for i in range(M):\n",
    "        y, x, z = locs[0, i]\n",
    "        x = int(x * config.dataset.img_width)\n",
    "        y = int(y * config.dataset.img_height)\n",
    "        size = min_dim / (2 ** z)\n",
    "        size = size.clamp(1, min_dim)\n",
    "        size = size.item()\n",
    "        min_x = x - size // 2\n",
    "        min_y = y - size // 2\n",
    "        plt.gca().add_patch(\n",
    "            plt.Rectangle((min_x, min_y), size, size, fill=False, edgecolor=\"red\", linewidth=2)\n",
    "        )\n",
    "    plt.show()\n",
    "\n",
    "    P = 32\n",
    "    patches = extract_patches(img.unsqueeze(0), locs, P).squeeze(0)\n",
    "    for i in range(M):\n",
    "        patch = (patches[i] * 255).round().int().permute(1, 2, 0).numpy().astype(np.uint8)\n",
    "        plt.imshow(patch)\n",
    "        plt.axis(\"off\")\n",
    "        plt.show()"
   ]
  },
  {
   "cell_type": "code",
   "execution_count": null,
   "metadata": {},
   "outputs": [],
   "source": [
    "batch = next(iter(loader))\n",
    "vis_patches(batch, z=4)"
   ]
  },
  {
   "cell_type": "code",
   "execution_count": null,
   "metadata": {},
   "outputs": [],
   "source": [
    "import random\n",
    "\n",
    "ind = random.randint(0, len(train_ds))\n",
    "ind = 16586\n",
    "vis_random_patches(ind)"
   ]
  },
  {
   "cell_type": "code",
   "execution_count": null,
   "metadata": {},
   "outputs": [],
   "source": []
  }
 ],
 "metadata": {
  "kernelspec": {
   "display_name": "default",
   "language": "python",
   "name": "python3"
  },
  "language_info": {
   "codemirror_mode": {
    "name": "ipython",
    "version": 3
   },
   "file_extension": ".py",
   "mimetype": "text/x-python",
   "name": "python",
   "nbconvert_exporter": "python",
   "pygments_lexer": "ipython3",
   "version": "3.12.7"
  }
 },
 "nbformat": 4,
 "nbformat_minor": 2
}
