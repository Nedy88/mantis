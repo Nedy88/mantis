{
 "cells": [
  {
   "cell_type": "code",
   "execution_count": null,
   "metadata": {},
   "outputs": [],
   "source": [
    "import hydra\n",
    "import matplotlib.pyplot as plt\n",
    "import numpy as np\n",
    "from omegaconf import OmegaConf\n"
   ]
  },
  {
   "cell_type": "code",
   "execution_count": null,
   "metadata": {},
   "outputs": [],
   "source": [
    "from mantis.configs.config import Config\n",
    "\n",
    "with hydra.initialize(version_base=None, config_path=\"../conf/\"):\n",
    "    cfg = hydra.compose(config_name=\"config\")\n",
    "    OmegaConf.resolve(cfg)\n",
    "    config = Config(**cfg)"
   ]
  },
  {
   "cell_type": "code",
   "execution_count": null,
   "metadata": {},
   "outputs": [],
   "source": [
    "from mantis.data.datasets import setup_dataset\n",
    "\n",
    "train_ds, val_ds = setup_dataset(config.dataset)"
   ]
  },
  {
   "cell_type": "code",
   "execution_count": null,
   "metadata": {},
   "outputs": [],
   "source": [
    "from torch.utils.data import DataLoader\n",
    "\n",
    "B = 2\n",
    "\n",
    "loader = DataLoader(train_ds, batch_size=B, shuffle=True)"
   ]
  },
  {
   "cell_type": "code",
   "execution_count": null,
   "metadata": {},
   "outputs": [],
   "source": [
    "import torch\n",
    "\n",
    "from mantis.model.patch_extractor import extract_equal_zoom_patches\n",
    "\n",
    "\n",
    "def vis_patches(batch: dict[str, torch.Tensor], z: float):\n",
    "    P = 16\n",
    "    eps = 1e-6\n",
    "    imgs = batch[\"image\"]\n",
    "    if (imgs[0, 0, ...] - imgs[0, 1, ...]).abs().max() < eps and (imgs[0, 1, ...] - imgs[0, 2, ...]).abs().max() < eps:\n",
    "        print(\"First image is grayscale\")\n",
    "\n",
    "    if (imgs[1, 0, ...] - imgs[1, 1, ...]).abs().max() < eps and (imgs[1, 1, ...] - imgs[1, 2, ...]).abs().max() < eps:\n",
    "        print(\"Second image is grayscale\")\n",
    "    imgs = (imgs * 255).round().int().clip(0, 255)\n",
    "    imgs = imgs.permute(0, 2, 3, 1).numpy().astype(np.uint8)\n",
    "    locs = torch.rand((B, 2))\n",
    "    scaled_locs = locs * 2 - 1\n",
    "    patches = extract_equal_zoom_patches(batch[\"image\"], locs=scaled_locs, z=z, patch_size=P)\n",
    "    inp_dim = min(config.dataset.img_height, config.dataset.img_width)\n",
    "    size = inp_dim / (2 ** z)\n",
    "\n",
    "    fig, axs = plt.subplots(1, 2, figsize=(12, 6))\n",
    "    axs[0].imshow(imgs[0])\n",
    "    axs[0].set_axis_off()\n",
    "    axs[0].scatter(locs[0, 0] * config.dataset.img_width, locs[0, 1] * config.dataset.img_height, c=\"red\")\n",
    "    min_loc = (locs[0, 0] * config.dataset.img_width - size / 2).item(), (locs[0, 1] * config.dataset.img_height - size / 2).item()\n",
    "    axs[0].add_patch(\n",
    "        plt.Rectangle(min_loc, size, size, fill=False, edgecolor=\"red\", linewidth=2)\n",
    "    )\n",
    "\n",
    "    axs[1].imshow(imgs[1])\n",
    "    axs[1].set_axis_off()\n",
    "    axs[1].scatter(locs[1, 0] * config.dataset.img_width, locs[1, 1] * config.dataset.img_height, c=\"red\")\n",
    "    min_loc = (locs[1, 0] * config.dataset.img_width - size / 2).item(), (locs[1, 1] * config.dataset.img_height - size / 2).item()\n",
    "    axs[1].add_patch(\n",
    "        plt.Rectangle(min_loc, size, size, fill=False, edgecolor=\"red\", linewidth=2)\n",
    "    )\n",
    "    plt.show()\n",
    "\n",
    "    fig, axs = plt.subplots(1, 2, figsize=(12, 6))\n",
    "    patch = (patches[0] * 255).round().int().permute(1, 2, 0).numpy().astype(np.uint8)\n",
    "    axs[0].imshow(patch)\n",
    "    axs[0].set_axis_off()\n",
    "\n",
    "    patch = (patches[1] * 255).round().int().permute(1, 2, 0).numpy().astype(np.uint8)\n",
    "    axs[1].imshow(patch)\n",
    "    axs[1].set_axis_off()\n",
    "\n",
    "    plt.show()"
   ]
  },
  {
   "cell_type": "code",
   "execution_count": null,
   "metadata": {},
   "outputs": [],
   "source": [
    "loader = iter(loader)"
   ]
  },
  {
   "cell_type": "code",
   "execution_count": null,
   "metadata": {},
   "outputs": [],
   "source": [
    "batch = next(loader)\n",
    "vis_patches(batch, z=4)"
   ]
  }
 ],
 "metadata": {
  "kernelspec": {
   "display_name": "default",
   "language": "python",
   "name": "python3"
  },
  "language_info": {
   "codemirror_mode": {
    "name": "ipython",
    "version": 3
   },
   "file_extension": ".py",
   "mimetype": "text/x-python",
   "name": "python",
   "nbconvert_exporter": "python",
   "pygments_lexer": "ipython3",
   "version": "3.12.7"
  }
 },
 "nbformat": 4,
 "nbformat_minor": 2
}
